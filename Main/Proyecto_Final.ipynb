{
 "cells": [
  {
   "cell_type": "markdown",
   "metadata": {},
   "source": []
  },
  {
   "cell_type": "markdown",
   "metadata": {},
   "source": [
    "## Descripcion del Proyecto \n",
    "\n",
    "\n",
    "Una empresa de traducción nos solicita que le brindemos una solución por medio de una base de datos que nos permita ver lo siguiente:\n",
    "- El número de empleados con el que cuenta la empresa y que se pueda eliminar o añadir con base a la rotación del personal.\n",
    "- Ver cuantos idiomas puede traducir cada traductor.\n",
    "- Cuántos proyectos han realizado con base a los últimos 6 meses. \n",
    "- Adicional que nos brinde que calificación obtuvo *alto medio bajo*\n",
    "- Ademas que se puede contabilizar cuantos traductores hay por idioma.\n",
    "- Y como un adicional si se puede graficar los numeros de proyectos realizados en los ultimos 6 meses."
   ]
  }
 ],
 "metadata": {
  "language_info": {
   "name": "python"
  }
 },
 "nbformat": 4,
 "nbformat_minor": 2
}
