{
 "cells": [
  {
   "cell_type": "code",
   "execution_count": null,
   "metadata": {
    "vscode": {
     "languageId": "plaintext"
    }
   },
   "outputs": [],
   "source": [
    "Descripcion del Proyecto \n",
    "\n",
    "\n",
    "Creamos una base de dato desde cero para una empresa de traduccion en la debemos crear una base de datos con los\n",
    "empleados de la empresa con los respectivos idiomas que traducen cuantos proyectos de traduccion realizaron en los ultimos 6 meses\n",
    "\n",
    "\n",
    "\n",
    "\n"
   ]
  },
  {
   "cell_type": "markdown",
   "metadata": {},
   "source": []
  }
 ],
 "metadata": {
  "language_info": {
   "name": "python"
  }
 },
 "nbformat": 4,
 "nbformat_minor": 2
}
