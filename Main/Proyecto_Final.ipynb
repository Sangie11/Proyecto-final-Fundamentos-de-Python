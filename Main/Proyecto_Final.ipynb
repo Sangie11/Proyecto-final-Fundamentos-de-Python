{
 "cells": [
  {
   "cell_type": "markdown",
   "metadata": {},
   "source": []
  },
  {
   "cell_type": "markdown",
   "metadata": {},
   "source": [
    "## Descripcion del Proyecto \n",
    "\n",
    "\n",
    "Una empresa de traducción nos solicita que le brindemos una solución por medio de una base de datos que nos permita ver lo siguiente:\n",
    "- El número de empleados con el que cuenta la empresa y que se pueda eliminar o añadir con base a la rotación del personal.\n",
    "- Ver cuantos idiomas puede traducir cada traductor.\n",
    "- Cuántos proyectos han realizado con base a los últimos 6 meses. \n",
    "- Adicional que nos brinde que calificación obtuvo *alto medio bajo*\n",
    "- Ademas que se puede contabilizar cuantos traductores hay por idioma.\n",
    "- Y como un adicional si se puede graficar los numeros de proyectos realizados en los ultimos 6 meses."
   ]
  },
  {
   "cell_type": "code",
   "execution_count": null,
   "metadata": {},
   "outputs": [],
   "source": [
    "import pandas as pd\n",
    "\n",
    "import matplotlib.pyplot as plt\n",
    "\n",
    "df = pd.read_csv(r'C:\\Users\\aland\\Desktop\\empleados_traduccion_con_proyectos.csv')\n",
    "\n",
    "df.head()"
   ]
  },
  {
   "cell_type": "markdown",
   "metadata": {},
   "source": [
    "## Agregar Empleados"
   ]
  },
  {
   "cell_type": "code",
   "execution_count": null,
   "metadata": {},
   "outputs": [],
   "source": [
    "#Aqui se presenta el codigo de agregar empleados\n",
    "\n",
    "# Función para obtener el número de empleados\n",
    "def obtener_numero_empleados(df):\n",
    "    return df.shape[0]\n",
    "\n",
    "# Función para añadir un empleado\n",
    "def añadir_empleado(df):\n",
    "    numero_empleado = int(input(\"Ingrese el número de empleado: \"))\n",
    "    nombre = input(\"Ingrese el nombre del empleado: \")\n",
    "    apellidos = input(\"Ingrese los apellidos del empleado: \")\n",
    "    idiomas = input(\"Ingrese los idiomas que traduce (separados por coma): \")\n",
    "    calificacion = input(\"Ingrese la calificación en proyectos (Alto, Medio, Bajo): \")\n",
    "    proyectos_junio = int(input(\"Ingrese el número de proyectos en Junio: \"))\n",
    "    proyectos_julio = int(input(\"Ingrese el número de proyectos en Julio: \"))\n",
    "    proyectos_agosto = int(input(\"Ingrese el número de proyectos en Agosto: \"))\n",
    "    proyectos_septiembre = int(input(\"Ingrese el número de proyectos en Septiembre: \"))\n",
    "    proyectos_octubre = int(input(\"Ingrese el número de proyectos en Octubre: \"))\n",
    "    proyectos_noviembre = int(input(\"Ingrese el número de proyectos en Noviembre: \"))\n",
    "    \n",
    "    nuevo_empleado = {\n",
    "        'Número de Empleado': numero_empleado,\n",
    "        'Nombre': nombre,\n",
    "        'Apellidos': apellidos,\n",
    "        'Idiomas que Traduce': idiomas,\n",
    "        'Calificación en Proyectos': calificacion,\n",
    "        'Proyectos en Junio': proyectos_junio,\n",
    "        'Proyectos en Julio': proyectos_julio,\n",
    "        'Proyectos en Agosto': proyectos_agosto,\n",
    "        'Proyectos en Septiembre': proyectos_septiembre,\n",
    "        'Proyectos en Octubre': proyectos_octubre,\n",
    "        'Proyectos en Noviembre': proyectos_noviembre\n",
    "    }\n",
    "    \n",
    "    df = pd.concat([df, pd.DataFrame([nuevo_empleado])], ignore_index=True)\n",
    "    return df\n",
    "\n",
    "# Mostrar empleados al inicio\n",
    "print(\"Empleados al inicio:\")\n",
    "print(df[['Número de Empleado', 'Nombre', 'Apellidos']])\n",
    "\n",
    "# Número de empleados inicial\n",
    "num_empleados_inicial = obtener_numero_empleados(df)\n",
    "print(f\"Número de empleados inicial: {num_empleados_inicial}\")\n",
    "\n",
    "# Añadir un nuevo empleado\n",
    "df = añadir_empleado(df)\n",
    "\n",
    "# Número de empleados después de añadir\n",
    "num_empleados_despues_añadir = obtener_numero_empleados(df)\n",
    "print(f\"Número de empleados después de añadir: {num_empleados_despues_añadir}\")\n",
    "\n",
    "# Mostrar empleados después de añadir\n",
    "print(\"Empleados después de añadir:\")\n",
    "print(df[['Número de Empleado', 'Nombre', 'Apellidos']])"
   ]
  },
  {
   "cell_type": "markdown",
   "metadata": {},
   "source": [
    "## Eliminar Empleados"
   ]
  },
  {
   "cell_type": "code",
   "execution_count": 22,
   "metadata": {},
   "outputs": [
    {
     "name": "stdout",
     "output_type": "stream",
     "text": [
      "Empleados al inicio:\n",
      "     Número de Empleado      Nombre Apellidos\n",
      "0                     1    Danielle   Johnson\n",
      "1                     2      Joshua    Walker\n",
      "2                     3        Jill    Rhodes\n",
      "3                     4    Patricia    Miller\n",
      "4                     5      Robert   Johnson\n",
      "..                  ...         ...       ...\n",
      "296                 297       Jason   Salinas\n",
      "297                 298     Matthew     Beard\n",
      "298                 299  Jacqueline      Hill\n",
      "299                 300   Alejandro   Vaughan\n",
      "300                 301     Natalia     Araya\n",
      "\n",
      "[301 rows x 3 columns]\n",
      "Número de empleados inicial: 301\n",
      "Número de empleados después de eliminar: 300\n",
      "Empleados después de eliminar:\n",
      "     Número de Empleado      Nombre Apellidos\n",
      "0                     1    Danielle   Johnson\n",
      "1                     2      Joshua    Walker\n",
      "2                     3        Jill    Rhodes\n",
      "3                     4    Patricia    Miller\n",
      "4                     5      Robert   Johnson\n",
      "..                  ...         ...       ...\n",
      "295                 296     Melissa     White\n",
      "296                 297       Jason   Salinas\n",
      "297                 298     Matthew     Beard\n",
      "298                 299  Jacqueline      Hill\n",
      "299                 300   Alejandro   Vaughan\n",
      "\n",
      "[300 rows x 3 columns]\n"
     ]
    }
   ],
   "source": [
    "#Aqui se presenta el codigo para eliminar empleados\n",
    "\n",
    "# Función para obtener el número de empleados\n",
    "def obtener_numero_empleados(df):\n",
    "    return df.shape[0]\n",
    "\n",
    "# Función para eliminar un empleado por número de empleado\n",
    "def eliminar_empleado(df):\n",
    "    numero_empleado = int(input(\"Ingrese el número de empleado a eliminar: \"))\n",
    "    df = df[df['Número de Empleado'] != numero_empleado]\n",
    "    return df\n",
    "\n",
    "# Mostrar empleados al inicio\n",
    "print(\"Empleados al inicio:\")\n",
    "print(df[['Número de Empleado', 'Nombre', 'Apellidos']])\n",
    "\n",
    "# Número de empleados inicial\n",
    "num_empleados_inicial = obtener_numero_empleados(df)\n",
    "print(f\"Número de empleados inicial: {num_empleados_inicial}\")\n",
    "\n",
    "# Eliminar un empleado\n",
    "df = eliminar_empleado(df)\n",
    "\n",
    "# Número de empleados después de eliminar\n",
    "num_empleados_despues_eliminar = obtener_numero_empleados(df)\n",
    "print(f\"Número de empleados después de eliminar: {num_empleados_despues_eliminar}\")\n",
    "\n",
    "# Mostrar empleados después de eliminar\n",
    "print(\"Empleados después de eliminar:\")\n",
    "print(df[['Número de Empleado', 'Nombre', 'Apellidos']])"
   ]
  },
  {
   "cell_type": "markdown",
   "metadata": {},
   "source": [
    "## Cantidad de idiomas que puede traducir cada empleado"
   ]
  },
  {
   "cell_type": "code",
   "execution_count": 23,
   "metadata": {},
   "outputs": [
    {
     "name": "stdout",
     "output_type": "stream",
     "text": [
      "     Número de Empleado      Nombre Apellidos  Num_Idiomas\n",
      "0                     1    Danielle   Johnson            2\n",
      "1                     2      Joshua    Walker            4\n",
      "2                     3        Jill    Rhodes            3\n",
      "3                     4    Patricia    Miller            2\n",
      "4                     5      Robert   Johnson            1\n",
      "..                  ...         ...       ...          ...\n",
      "295                 296     Melissa     White            2\n",
      "296                 297       Jason   Salinas            1\n",
      "297                 298     Matthew     Beard            2\n",
      "298                 299  Jacqueline      Hill            3\n",
      "299                 300   Alejandro   Vaughan            1\n",
      "\n",
      "[300 rows x 4 columns]\n",
      "El empleado Tanner Anderson traduce 1 idiomas.\n"
     ]
    }
   ],
   "source": [
    "# Ver cuántos idiomas puede traducir cada traductor\n",
    "df['Num_Idiomas'] = df['Idiomas que Traduce'].apply(lambda x: len(x.split(', ')))\n",
    "\n",
    "# Función para ver cuántos idiomas traduce un empleado por su número de empleado\n",
    "def ver_idiomas_por_empleado(df, numero_empleado):\n",
    "    empleado = df[df['Número de Empleado'] == numero_empleado]\n",
    "    if not empleado.empty:\n",
    "        nombre = empleado['Nombre'].values[0]\n",
    "        apellidos = empleado['Apellidos'].values[0]\n",
    "        num_idiomas = empleado['Num_Idiomas'].values[0]\n",
    "        print(f\"El empleado {nombre} {apellidos} traduce {num_idiomas} idiomas.\")\n",
    "    else:\n",
    "        print(\"Número de empleado no encontrado.\")\n",
    "\n",
    "# Mostrar el resultado general\n",
    "print(df[['Número de Empleado', 'Nombre', 'Apellidos', 'Num_Idiomas']])\n",
    "\n",
    "# Ejemplo de uso: Ver cuántos idiomas traduce un empleado específico\n",
    "numero_empleado = int(input(\"Ingrese el número de empleado para ver cuántos idiomas traduce: \"))\n",
    "ver_idiomas_por_empleado(df, numero_empleado)"
   ]
  },
  {
   "cell_type": "markdown",
   "metadata": {},
   "source": [
    "## Cantidad de proyectos realizados en los ultimos seis meses y mostrar su calificacion"
   ]
  },
  {
   "cell_type": "code",
   "execution_count": 24,
   "metadata": {},
   "outputs": [
    {
     "name": "stdout",
     "output_type": "stream",
     "text": [
      "     Número de Empleado      Nombre Apellidos  Total_Proyectos  \\\n",
      "0                     1    Danielle   Johnson               37   \n",
      "1                     2      Joshua    Walker               21   \n",
      "2                     3        Jill    Rhodes               30   \n",
      "3                     4    Patricia    Miller               25   \n",
      "4                     5      Robert   Johnson               13   \n",
      "..                  ...         ...       ...              ...   \n",
      "295                 296     Melissa     White               26   \n",
      "296                 297       Jason   Salinas               30   \n",
      "297                 298     Matthew     Beard               25   \n",
      "298                 299  Jacqueline      Hill               21   \n",
      "299                 300   Alejandro   Vaughan               31   \n",
      "\n",
      "    Calificación en Proyectos  \n",
      "0                       Medio  \n",
      "1                        Alto  \n",
      "2                        Bajo  \n",
      "3                        Alto  \n",
      "4                        Alto  \n",
      "..                        ...  \n",
      "295                      Alto  \n",
      "296                      Alto  \n",
      "297                     Medio  \n",
      "298                      Alto  \n",
      "299                      Alto  \n",
      "\n",
      "[300 rows x 5 columns]\n",
      "El empleado Tanner Anderson ha realizado 27 proyectos en los últimos seis meses y su calificación es Bajo.\n"
     ]
    }
   ],
   "source": [
    "# Calcular la cantidad de proyectos realizados en los últimos seis meses\n",
    "df['Total_Proyectos'] = df[['Proyectos en Junio', 'Proyectos en Julio', 'Proyectos en Agosto', 'Proyectos en Septiembre', 'Proyectos en Octubre', 'Proyectos en Noviembre']].sum(axis=1)\n",
    "\n",
    "# Mostrar la cantidad de proyectos realizados y la calificación de cada empleado\n",
    "print(df[['Número de Empleado', 'Nombre', 'Apellidos', 'Total_Proyectos', 'Calificación en Proyectos']])\n",
    "\n",
    "# Función para ver la cantidad de proyectos y la calificación de un empleado por su número de empleado\n",
    "def ver_proyectos_y_calificacion_por_empleado(df, numero_empleado):\n",
    "    empleado = df[df['Número de Empleado'] == numero_empleado]\n",
    "    if not empleado.empty:\n",
    "        nombre = empleado['Nombre'].values[0]\n",
    "        apellidos = empleado['Apellidos'].values[0]\n",
    "        total_proyectos = empleado['Total_Proyectos'].values[0]\n",
    "        calificacion = empleado['Calificación en Proyectos'].values[0]\n",
    "        print(f\"El empleado {nombre} {apellidos} ha realizado {total_proyectos} proyectos en los últimos seis meses y su calificación es {calificacion}.\")\n",
    "    else:\n",
    "        print(\"Número de empleado no encontrado.\")\n",
    "\n",
    "# Ejemplo de uso: Ver la cantidad de proyectos y la calificación de un empleado específico\n",
    "numero_empleado = int(input(\"Ingrese el número de empleado para ver la cantidad de proyectos y su calificación: \"))\n",
    "ver_proyectos_y_calificacion_por_empleado(df, numero_empleado)"
   ]
  },
  {
   "cell_type": "markdown",
   "metadata": {},
   "source": [
    "## Mostrar cuantos traductores hay por idioma"
   ]
  },
  {
   "cell_type": "code",
   "execution_count": 25,
   "metadata": {},
   "outputs": [
    {
     "name": "stdout",
     "output_type": "stream",
     "text": [
      "Alemán       89\n",
      "Árabe        82\n",
      "Inglés       81\n",
      "Chino        77\n",
      "Portugués    76\n",
      "Japonés      72\n",
      "Español      72\n",
      "Ruso         70\n",
      "Francés      66\n",
      "Italiano     57\n",
      "El idioma Ruso tiene 70 traductores.\n"
     ]
    }
   ],
   "source": [
    "# Contabilizar cuántos traductores hay por idioma\n",
    "idiomas = df['Idiomas que Traduce'].str.split(', ', expand=True).stack().value_counts()\n",
    "\n",
    "# Mostrar el resultado general sin la línea 'Name: count, dtype: int64'\n",
    "print(idiomas.to_string())\n",
    "\n",
    "# Función para ver cuántos traductores hay por un idioma específico\n",
    "def ver_traductores_por_idioma(idiomas, idioma):\n",
    "    if idioma in idiomas.index:\n",
    "        print(f\"El idioma {idioma} tiene {idiomas[idioma]} traductores.\")\n",
    "    else:\n",
    "        print(\"Idioma no encontrado.\")\n",
    "\n",
    "# Ejemplo de uso: Ver cuántos traductores hay por un idioma específico\n",
    "idioma = input(\"Ingrese el idioma para ver cuántos traductores tiene: \")\n",
    "ver_traductores_por_idioma(idiomas, idioma)"
   ]
  },
  {
   "cell_type": "markdown",
   "metadata": {},
   "source": [
    "## Grafico de los numeros de proyectos realizados en los ultimos 6 meses."
   ]
  },
  {
   "cell_type": "code",
   "execution_count": 26,
   "metadata": {},
   "outputs": [
    {
     "data": {
      "image/png": "[encoded data removed]",
      "text/plain": [
       "<Figure size 1000x600 with 1 Axes>"
      ]
     },
     "metadata": {},
     "output_type": "display_data"
    }
   ],
   "source": [
    "# Calcular la cantidad de proyectos realizados en los últimos seis meses\n",
    "proyectos_por_mes = df[['Proyectos en Junio', 'Proyectos en Julio', 'Proyectos en Agosto', 'Proyectos en Septiembre', 'Proyectos en Octubre', 'Proyectos en Noviembre']].sum()\n",
    "\n",
    "# Graficar los números de proyectos realizados en los últimos 6 meses\n",
    "plt.figure(figsize=(10, 6))\n",
    "proyectos_por_mes.plot(kind='bar')\n",
    "plt.title('Número de Proyectos Realizados en los Últimos 6 Meses')\n",
    "plt.xlabel('Mes')\n",
    "plt.ylabel('Número de Proyectos')\n",
    "plt.xticks(rotation=45)\n",
    "plt.tight_layout()\n",
    "plt.savefig('proyectos_realizados.png')\n",
    "\n",
    "# Mostrar la gráfica\n",
    "plt.show()"
   ]
  }
 ],
 "metadata": {
  "kernelspec": {
   "display_name": "Python 3",
   "language": "python",
   "name": "python3"
  },
  "language_info": {
   "codemirror_mode": {
    "name": "ipython",
    "version": 3
   },
   "file_extension": ".py",
   "mimetype": "text/x-python",
   "name": "python",
   "nbconvert_exporter": "python",
   "pygments_lexer": "ipython3",
   "version": "3.12.7"
  }
 },
 "nbformat": 4,
 "nbformat_minor": 2
}
