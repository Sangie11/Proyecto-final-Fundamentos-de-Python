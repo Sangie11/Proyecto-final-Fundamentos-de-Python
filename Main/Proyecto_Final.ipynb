{
 "cells": [
  {
   "cell_type": "markdown",
   "metadata": {},
   "source": []
  },
  {
   "cell_type": "markdown",
   "metadata": {},
   "source": [
    "## Descripcion del Proyecto \n",
    "\n",
    "\n",
    "### Una empresa de traducción nos solicita una solución basada en una base de datos que permita gestionar y visualizar la siguiente información:\n",
    "\n",
    "-Número de empleados: Registrar la cantidad actual de empleados, con la posibilidad de añadir o eliminar personal según la rotación del equipo.\n",
    "\n",
    "-Idiomas por traductor: Visualizar los idiomas que cada traductor puede manejar.\n",
    "\n",
    "-Proyectos realizados: Consultar cuántos proyectos ha completado cada traductor en los últimos 6 meses.\n",
    "\n",
    "-Calificación de calidad: Obtener una evaluación de cada traductor en tres niveles: alto, medio o bajo, basada en revisiones realizadas por el equipo de calidad.\n",
    "\n",
    "-Traductores por idioma: Contabilizar cuántos traductores están disponibles para cada idioma.\n",
    "\n",
    "-Gráficos adicionales: Generar gráficos que representen el número de proyectos realizados en los últimos 6 meses para facilitar el análisis de datos."
   ]
  },
  {
   "cell_type": "code",
   "execution_count": null,
   "metadata": {},
   "outputs": [],
   "source": [
    "import pandas as pd\n",
    "\n",
    "import matplotlib.pyplot as plt\n",
    "\n",
    "df = pd.read_csv(r'C:\\Users\\aland\\Desktop\\empleados_traduccion_con_proyectos.csv')\n",
    "\n",
    "df.head()"
   ]
  },
  {
   "cell_type": "markdown",
   "metadata": {},
   "source": [
    "## Agregar Empleados"
   ]
  },
  {
   "cell_type": "code",
   "execution_count": null,
   "metadata": {},
   "outputs": [],
   "source": [
    "#Aqui se presenta el codigo de agregar empleados\n",
    "\n",
    "# Función para obtener el número de empleados\n",
    "def obtener_numero_empleados(df):\n",
    "    return df.shape[0]\n",
    "\n",
    "# Función para añadir un empleado\n",
    "def añadir_empleado(df):\n",
    "    numero_empleado = int(input(\"Ingrese el número de empleado: \"))\n",
    "    nombre = input(\"Ingrese el nombre del empleado: \")\n",
    "    apellidos = input(\"Ingrese los apellidos del empleado: \")\n",
    "    idiomas = input(\"Ingrese los idiomas que traduce (separados por coma): \")\n",
    "    calificacion = input(\"Ingrese la calificación en proyectos (Alto, Medio, Bajo): \")\n",
    "    proyectos_junio = int(input(\"Ingrese el número de proyectos en Junio: \"))\n",
    "    proyectos_julio = int(input(\"Ingrese el número de proyectos en Julio: \"))\n",
    "    proyectos_agosto = int(input(\"Ingrese el número de proyectos en Agosto: \"))\n",
    "    proyectos_septiembre = int(input(\"Ingrese el número de proyectos en Septiembre: \"))\n",
    "    proyectos_octubre = int(input(\"Ingrese el número de proyectos en Octubre: \"))\n",
    "    proyectos_noviembre = int(input(\"Ingrese el número de proyectos en Noviembre: \"))\n",
    "    \n",
    "    nuevo_empleado = {\n",
    "        'Número de Empleado': numero_empleado,\n",
    "        'Nombre': nombre,\n",
    "        'Apellidos': apellidos,\n",
    "        'Idiomas que Traduce': idiomas,\n",
    "        'Calificación en Proyectos': calificacion,\n",
    "        'Proyectos en Junio': proyectos_junio,\n",
    "        'Proyectos en Julio': proyectos_julio,\n",
    "        'Proyectos en Agosto': proyectos_agosto,\n",
    "        'Proyectos en Septiembre': proyectos_septiembre,\n",
    "        'Proyectos en Octubre': proyectos_octubre,\n",
    "        'Proyectos en Noviembre': proyectos_noviembre\n",
    "    }\n",
    "    \n",
    "    df = pd.concat([df, pd.DataFrame([nuevo_empleado])], ignore_index=True)\n",
    "    return df\n",
    "\n",
    "# Mostrar empleados al inicio\n",
    "print(\"Empleados al inicio:\")\n",
    "print(df[['Número de Empleado', 'Nombre', 'Apellidos']])\n",
    "\n",
    "# Número de empleados inicial\n",
    "num_empleados_inicial = obtener_numero_empleados(df)\n",
    "print(f\"Número de empleados inicial: {num_empleados_inicial}\")\n",
    "\n",
    "# Añadir un nuevo empleado\n",
    "df = añadir_empleado(df)\n",
    "\n",
    "# Número de empleados después de añadir\n",
    "num_empleados_despues_añadir = obtener_numero_empleados(df)\n",
    "print(f\"Número de empleados después de añadir: {num_empleados_despues_añadir}\")\n",
    "\n",
    "# Mostrar empleados después de añadir\n",
    "print(\"Empleados después de añadir:\")\n",
    "print(df[['Número de Empleado', 'Nombre', 'Apellidos']])"
   ]
  },
  {
   "cell_type": "markdown",
   "metadata": {},
   "source": [
    "## Eliminar Empleados"
   ]
  },
  {
   "cell_type": "code",
   "execution_count": null,
   "metadata": {},
   "outputs": [],
   "source": [
    "#Aqui se presenta el codigo para eliminar empleados\n",
    "\n",
    "# Función para obtener el número de empleados\n",
    "def obtener_numero_empleados(df):\n",
    "    return df.shape[0]\n",
    "\n",
    "# Función para eliminar un empleado por número de empleado\n",
    "def eliminar_empleado(df):\n",
    "    numero_empleado = int(input(\"Ingrese el número de empleado a eliminar: \"))\n",
    "    df = df[df['Número de Empleado'] != numero_empleado]\n",
    "    return df\n",
    "\n",
    "# Mostrar empleados al inicio\n",
    "print(\"Empleados al inicio:\")\n",
    "print(df[['Número de Empleado', 'Nombre', 'Apellidos']])\n",
    "\n",
    "# Número de empleados inicial\n",
    "num_empleados_inicial = obtener_numero_empleados(df)\n",
    "print(f\"Número de empleados inicial: {num_empleados_inicial}\")\n",
    "\n",
    "# Eliminar un empleado\n",
    "df = eliminar_empleado(df)\n",
    "\n",
    "# Número de empleados después de eliminar\n",
    "num_empleados_despues_eliminar = obtener_numero_empleados(df)\n",
    "print(f\"Número de empleados después de eliminar: {num_empleados_despues_eliminar}\")\n",
    "\n",
    "# Mostrar empleados después de eliminar\n",
    "print(\"Empleados después de eliminar:\")\n",
    "print(df[['Número de Empleado', 'Nombre', 'Apellidos']])"
   ]
  },
  {
   "cell_type": "markdown",
   "metadata": {},
   "source": [
    "## Cantidad de idiomas que puede traducir cada empleado"
   ]
  },
  {
   "cell_type": "code",
   "execution_count": null,
   "metadata": {},
   "outputs": [],
   "source": [
    "# Ver cuántos idiomas puede traducir cada traductor\n",
    "df['Num_Idiomas'] = df['Idiomas que Traduce'].apply(lambda x: len(x.split(', ')))\n",
    "\n",
    "# Función para ver cuántos idiomas traduce un empleado por su número de empleado\n",
    "def ver_idiomas_por_empleado(df, numero_empleado):\n",
    "    empleado = df[df['Número de Empleado'] == numero_empleado]\n",
    "    if not empleado.empty:\n",
    "        nombre = empleado['Nombre'].values[0]\n",
    "        apellidos = empleado['Apellidos'].values[0]\n",
    "        num_idiomas = empleado['Num_Idiomas'].values[0]\n",
    "        print(f\"El empleado {nombre} {apellidos} traduce {num_idiomas} idiomas.\")\n",
    "    else:\n",
    "        print(\"Número de empleado no encontrado.\")\n",
    "\n",
    "# Mostrar el resultado general\n",
    "print(df[['Número de Empleado', 'Nombre', 'Apellidos', 'Num_Idiomas']])\n",
    "\n",
    "# Ejemplo de uso: Ver cuántos idiomas traduce un empleado específico\n",
    "numero_empleado = int(input(\"Ingrese el número de empleado para ver cuántos idiomas traduce: \"))\n",
    "ver_idiomas_por_empleado(df, numero_empleado)"
   ]
  },
  {
   "cell_type": "markdown",
   "metadata": {},
   "source": [
    "## Cantidad de proyectos realizados en los ultimos seis meses y mostrar su calificacion"
   ]
  },
  {
   "cell_type": "code",
   "execution_count": null,
   "metadata": {},
   "outputs": [],
   "source": [
    "# Calcular la cantidad de proyectos realizados en los últimos seis meses\n",
    "df['Total_Proyectos'] = df[['Proyectos en Junio', 'Proyectos en Julio', 'Proyectos en Agosto', 'Proyectos en Septiembre', 'Proyectos en Octubre', 'Proyectos en Noviembre']].sum(axis=1)\n",
    "\n",
    "# Mostrar la cantidad de proyectos realizados y la calificación de cada empleado\n",
    "print(df[['Número de Empleado', 'Nombre', 'Apellidos', 'Total_Proyectos', 'Calificación en Proyectos']])\n",
    "\n",
    "# Función para ver la cantidad de proyectos y la calificación de un empleado por su número de empleado\n",
    "def ver_proyectos_y_calificacion_por_empleado(df, numero_empleado):\n",
    "    empleado = df[df['Número de Empleado'] == numero_empleado]\n",
    "    if not empleado.empty:\n",
    "        nombre = empleado['Nombre'].values[0]\n",
    "        apellidos = empleado['Apellidos'].values[0]\n",
    "        total_proyectos = empleado['Total_Proyectos'].values[0]\n",
    "        calificacion = empleado['Calificación en Proyectos'].values[0]\n",
    "        print(f\"El empleado {nombre} {apellidos} ha realizado {total_proyectos} proyectos en los últimos seis meses y su calificación es {calificacion}.\")\n",
    "    else:\n",
    "        print(\"Número de empleado no encontrado.\")\n",
    "\n",
    "# Ejemplo de uso: Ver la cantidad de proyectos y la calificación de un empleado específico\n",
    "numero_empleado = int(input(\"Ingrese el número de empleado para ver la cantidad de proyectos y su calificación: \"))\n",
    "ver_proyectos_y_calificacion_por_empleado(df, numero_empleado)"
   ]
  },
  {
   "cell_type": "markdown",
   "metadata": {},
   "source": [
    "## Mostrar cuantos traductores hay por idioma"
   ]
  },
  {
   "cell_type": "code",
   "execution_count": null,
   "metadata": {},
   "outputs": [],
   "source": [
    "# Contabilizar cuántos traductores hay por idioma\n",
    "idiomas = df['Idiomas que Traduce'].str.split(', ', expand=True).stack().value_counts()\n",
    "\n",
    "# Mostrar el resultado general sin la línea 'Name: count, dtype: int64'\n",
    "print(idiomas.to_string())\n",
    "\n",
    "# Función para ver cuántos traductores hay por un idioma específico\n",
    "def ver_traductores_por_idioma(idiomas, idioma):\n",
    "    if idioma in idiomas.index:\n",
    "        print(f\"El idioma {idioma} tiene {idiomas[idioma]} traductores.\")\n",
    "    else:\n",
    "        print(\"Idioma no encontrado.\")\n",
    "\n",
    "# Ejemplo de uso: Ver cuántos traductores hay por un idioma específico\n",
    "idioma = input(\"Ingrese el idioma para ver cuántos traductores tiene: \")\n",
    "ver_traductores_por_idioma(idiomas, idioma)"
   ]
  },
  {
   "cell_type": "markdown",
   "metadata": {},
   "source": [
    "## Grafico de los numeros de proyectos realizados en los ultimos 6 meses."
   ]
  },
  {
   "cell_type": "code",
   "execution_count": null,
   "metadata": {},
   "outputs": [],
   "source": [
    "# Calcular la cantidad de proyectos realizados en los últimos seis meses\n",
    "proyectos_por_mes = df[['Proyectos en Junio', 'Proyectos en Julio', 'Proyectos en Agosto', 'Proyectos en Septiembre', 'Proyectos en Octubre', 'Proyectos en Noviembre']].sum()\n",
    "\n",
    "# Graficar los números de proyectos realizados en los últimos 6 meses\n",
    "plt.figure(figsize=(10, 6))\n",
    "proyectos_por_mes.plot(kind='bar')\n",
    "plt.title('Número de Proyectos Realizados en los Últimos 6 Meses')\n",
    "plt.xlabel('Mes')\n",
    "plt.ylabel('Número de Proyectos')\n",
    "plt.xticks(rotation=45)\n",
    "plt.tight_layout()\n",
    "plt.savefig('proyectos_realizados.png')\n",
    "\n",
    "# Mostrar la gráfica\n",
    "plt.show()"
   ]
  }
 ],
 "metadata": {
  "kernelspec": {
   "display_name": "Python 3",
   "language": "python",
   "name": "python3"
  },
  "language_info": {
   "codemirror_mode": {
    "name": "ipython",
    "version": 3
   },
   "file_extension": ".py",
   "mimetype": "text/x-python",
   "name": "python",
   "nbconvert_exporter": "python",
   "pygments_lexer": "ipython3",
   "version": "3.12.7"
  }
 },
 "nbformat": 4,
 "nbformat_minor": 2
}
